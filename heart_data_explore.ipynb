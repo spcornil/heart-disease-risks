{
 "cells": [
  {
   "cell_type": "markdown",
   "id": "242d20d5",
   "metadata": {},
   "source": [
    "#### Pipeline deployment on Small EC2 instance\n",
    "Initiates a spark session, extracts heart disease data into a pandas DF from an AWS S3 bucket using boto3, converts that pandas DF into a spark DF using PyArrow, performs some exploratory analyses, makes some transformations in prep for MLib model building, builds and evaluates a Linear Regression ML model, and writes final DF to parquet for further analysis"
   ]
  },
  {
   "cell_type": "code",
   "execution_count": 1,
   "id": "4c2c8391",
   "metadata": {},
   "outputs": [],
   "source": [
    "from pyspark.sql import SparkSession\n",
    "from pyspark.sql.types import *\n",
    "from pyspark.sql.functions import *\n",
    "\n",
    "import boto3\n",
    "import pandas as pd\n",
    "from io import BytesIO"
   ]
  },
  {
   "cell_type": "code",
   "execution_count": 2,
   "id": "1e7efe30",
   "metadata": {},
   "outputs": [
    {
     "name": "stderr",
     "output_type": "stream",
     "text": [
      "Setting default log level to \"WARN\".\n",
      "To adjust logging level use sc.setLogLevel(newLevel). For SparkR, use setLogLevel(newLevel).\n"
     ]
    },
    {
     "name": "stdout",
     "output_type": "stream",
     "text": [
      "23/02/11 22:12:42 WARN NativeCodeLoader: Unable to load native-hadoop library for your platform... using builtin-java classes where applicable\n"
     ]
    }
   ],
   "source": [
    "spark = (SparkSession\n",
    "        .builder\n",
    "        .appName(\"heart-disease-risks\")\n",
    "        .getOrCreate())"
   ]
  },
  {
   "cell_type": "code",
   "execution_count": 4,
   "id": "c7b35c00",
   "metadata": {},
   "outputs": [],
   "source": [
    "filePath = \"/home/ubuntu/heart-disease-risks/data/heart_data.csv\""
   ]
  },
  {
   "cell_type": "code",
   "execution_count": 5,
   "id": "4450ce0b",
   "metadata": {},
   "outputs": [
    {
     "name": "stderr",
     "output_type": "stream",
     "text": [
      "                                                                                \r"
     ]
    }
   ],
   "source": [
    "heartDF = (spark.read.format(\"csv\")\n",
    "          .option(\"header\",\"true\")\n",
    "          .option(\"inferSchema\",\"true\")\n",
    "          .load(filePath))"
   ]
  },
  {
   "cell_type": "code",
   "execution_count": 6,
   "id": "7e2360c9",
   "metadata": {},
   "outputs": [
    {
     "data": {
      "text/plain": [
       "['index',\n",
       " 'id',\n",
       " 'age',\n",
       " 'gender',\n",
       " 'height',\n",
       " 'weight',\n",
       " 'ap_hi',\n",
       " 'ap_lo',\n",
       " 'cholesterol',\n",
       " 'gluc',\n",
       " 'smoke',\n",
       " 'alco',\n",
       " 'active',\n",
       " 'cardio']"
      ]
     },
     "execution_count": 6,
     "metadata": {},
     "output_type": "execute_result"
    }
   ],
   "source": [
    "heartDF.columns"
   ]
  },
  {
   "cell_type": "code",
   "execution_count": 7,
   "id": "ed391322",
   "metadata": {},
   "outputs": [
    {
     "name": "stdout",
     "output_type": "stream",
     "text": [
      "+-----+---+-----+------+------+------+-----+-----+-----------+----+-----+----+------+------+\n",
      "|index| id|  age|gender|height|weight|ap_hi|ap_lo|cholesterol|gluc|smoke|alco|active|cardio|\n",
      "+-----+---+-----+------+------+------+-----+-----+-----------+----+-----+----+------+------+\n",
      "|    0|  0|18393|     2|   168|  62.0|  110|   80|          1|   1|    0|   0|     1|     0|\n",
      "|    1|  1|20228|     1|   156|  85.0|  140|   90|          3|   1|    0|   0|     1|     1|\n",
      "|    2|  2|18857|     1|   165|  64.0|  130|   70|          3|   1|    0|   0|     0|     1|\n",
      "|    3|  3|17623|     2|   169|  82.0|  150|  100|          1|   1|    0|   0|     1|     1|\n",
      "|    4|  4|17474|     1|   156|  56.0|  100|   60|          1|   1|    0|   0|     0|     0|\n",
      "|    5|  8|21914|     1|   151|  67.0|  120|   80|          2|   2|    0|   0|     0|     0|\n",
      "|    6|  9|22113|     1|   157|  93.0|  130|   80|          3|   1|    0|   0|     1|     0|\n",
      "|    7| 12|22584|     2|   178|  95.0|  130|   90|          3|   3|    0|   0|     1|     1|\n",
      "|    8| 13|17668|     1|   158|  71.0|  110|   70|          1|   1|    0|   0|     1|     0|\n",
      "|    9| 14|19834|     1|   164|  68.0|  110|   60|          1|   1|    0|   0|     0|     0|\n",
      "+-----+---+-----+------+------+------+-----+-----+-----------+----+-----+----+------+------+\n",
      "only showing top 10 rows\n",
      "\n"
     ]
    }
   ],
   "source": [
    "heartDF.show(n=10)"
   ]
  },
  {
   "cell_type": "code",
   "execution_count": 8,
   "id": "6dc40b13",
   "metadata": {},
   "outputs": [],
   "source": [
    "heartDF.createOrReplaceTempView(\"heart_tbl\")"
   ]
  },
  {
   "cell_type": "code",
   "execution_count": 9,
   "id": "74545166",
   "metadata": {},
   "outputs": [
    {
     "name": "stderr",
     "output_type": "stream",
     "text": [
      "\r",
      "[Stage 3:>                                                          (0 + 1) / 1]\r"
     ]
    },
    {
     "name": "stdout",
     "output_type": "stream",
     "text": [
      "+------+---------+\n",
      "|cardio|count(id)|\n",
      "+------+---------+\n",
      "|     1|    34979|\n",
      "|     0|    35021|\n",
      "+------+---------+\n",
      "\n"
     ]
    },
    {
     "name": "stderr",
     "output_type": "stream",
     "text": [
      "\r",
      "                                                                                \r"
     ]
    }
   ],
   "source": [
    "spark.sql(\"\"\"SELECT cardio, count(id)\n",
    "             FROM heart_tbl\n",
    "             GROUP BY cardio\"\"\").show(10)"
   ]
  },
  {
   "cell_type": "code",
   "execution_count": 3,
   "id": "1f2f1759",
   "metadata": {},
   "outputs": [
    {
     "data": {
      "text/html": [
       "<div>\n",
       "<style scoped>\n",
       "    .dataframe tbody tr th:only-of-type {\n",
       "        vertical-align: middle;\n",
       "    }\n",
       "\n",
       "    .dataframe tbody tr th {\n",
       "        vertical-align: top;\n",
       "    }\n",
       "\n",
       "    .dataframe thead th {\n",
       "        text-align: right;\n",
       "    }\n",
       "</style>\n",
       "<table border=\"1\" class=\"dataframe\">\n",
       "  <thead>\n",
       "    <tr style=\"text-align: right;\">\n",
       "      <th></th>\n",
       "      <th>index</th>\n",
       "      <th>id</th>\n",
       "      <th>age</th>\n",
       "      <th>gender</th>\n",
       "      <th>height</th>\n",
       "      <th>weight</th>\n",
       "      <th>ap_hi</th>\n",
       "      <th>ap_lo</th>\n",
       "      <th>cholesterol</th>\n",
       "      <th>gluc</th>\n",
       "      <th>smoke</th>\n",
       "      <th>alco</th>\n",
       "      <th>active</th>\n",
       "      <th>cardio</th>\n",
       "    </tr>\n",
       "  </thead>\n",
       "  <tbody>\n",
       "    <tr>\n",
       "      <th>0</th>\n",
       "      <td>0</td>\n",
       "      <td>0</td>\n",
       "      <td>18393</td>\n",
       "      <td>2</td>\n",
       "      <td>168</td>\n",
       "      <td>62.0</td>\n",
       "      <td>110</td>\n",
       "      <td>80</td>\n",
       "      <td>1</td>\n",
       "      <td>1</td>\n",
       "      <td>0</td>\n",
       "      <td>0</td>\n",
       "      <td>1</td>\n",
       "      <td>0</td>\n",
       "    </tr>\n",
       "    <tr>\n",
       "      <th>1</th>\n",
       "      <td>1</td>\n",
       "      <td>1</td>\n",
       "      <td>20228</td>\n",
       "      <td>1</td>\n",
       "      <td>156</td>\n",
       "      <td>85.0</td>\n",
       "      <td>140</td>\n",
       "      <td>90</td>\n",
       "      <td>3</td>\n",
       "      <td>1</td>\n",
       "      <td>0</td>\n",
       "      <td>0</td>\n",
       "      <td>1</td>\n",
       "      <td>1</td>\n",
       "    </tr>\n",
       "    <tr>\n",
       "      <th>2</th>\n",
       "      <td>2</td>\n",
       "      <td>2</td>\n",
       "      <td>18857</td>\n",
       "      <td>1</td>\n",
       "      <td>165</td>\n",
       "      <td>64.0</td>\n",
       "      <td>130</td>\n",
       "      <td>70</td>\n",
       "      <td>3</td>\n",
       "      <td>1</td>\n",
       "      <td>0</td>\n",
       "      <td>0</td>\n",
       "      <td>0</td>\n",
       "      <td>1</td>\n",
       "    </tr>\n",
       "    <tr>\n",
       "      <th>3</th>\n",
       "      <td>3</td>\n",
       "      <td>3</td>\n",
       "      <td>17623</td>\n",
       "      <td>2</td>\n",
       "      <td>169</td>\n",
       "      <td>82.0</td>\n",
       "      <td>150</td>\n",
       "      <td>100</td>\n",
       "      <td>1</td>\n",
       "      <td>1</td>\n",
       "      <td>0</td>\n",
       "      <td>0</td>\n",
       "      <td>1</td>\n",
       "      <td>1</td>\n",
       "    </tr>\n",
       "    <tr>\n",
       "      <th>4</th>\n",
       "      <td>4</td>\n",
       "      <td>4</td>\n",
       "      <td>17474</td>\n",
       "      <td>1</td>\n",
       "      <td>156</td>\n",
       "      <td>56.0</td>\n",
       "      <td>100</td>\n",
       "      <td>60</td>\n",
       "      <td>1</td>\n",
       "      <td>1</td>\n",
       "      <td>0</td>\n",
       "      <td>0</td>\n",
       "      <td>0</td>\n",
       "      <td>0</td>\n",
       "    </tr>\n",
       "  </tbody>\n",
       "</table>\n",
       "</div>"
      ],
      "text/plain": [
       "   index  id    age  gender  height  weight  ap_hi  ap_lo  cholesterol  gluc  \\\n",
       "0      0   0  18393       2     168    62.0    110     80            1     1   \n",
       "1      1   1  20228       1     156    85.0    140     90            3     1   \n",
       "2      2   2  18857       1     165    64.0    130     70            3     1   \n",
       "3      3   3  17623       2     169    82.0    150    100            1     1   \n",
       "4      4   4  17474       1     156    56.0    100     60            1     1   \n",
       "\n",
       "   smoke  alco  active  cardio  \n",
       "0      0     0       1       0  \n",
       "1      0     0       1       1  \n",
       "2      0     0       0       1  \n",
       "3      0     0       1       1  \n",
       "4      0     0       0       0  "
      ]
     },
     "execution_count": 3,
     "metadata": {},
     "output_type": "execute_result"
    }
   ],
   "source": [
    "### Load the same df from an s3 bucket instead of csv hosted locally\n",
    "\n",
    "# Define our s3 resource, bucket, & key\n",
    "s3 = boto3.resource('s3')\n",
    "\n",
    "#for bucket in s3.buckets.all():\n",
    "#        print(bucket.name)\n",
    "\n",
    "\n",
    "bucket_name = 'grand-corndog'\n",
    "key = 'datasets/heart_data.csv'\n",
    "\n",
    "obj = s3.Object(bucket_name, key)\n",
    "with BytesIO(obj.get()['Body'].read()) as bio:\n",
    "    df = pd.read_csv(bio)\n",
    "\n",
    "df.head()"
   ]
  },
  {
   "cell_type": "code",
   "execution_count": 4,
   "id": "fa4a9e46",
   "metadata": {},
   "outputs": [],
   "source": [
    "### Enable PyArrow for faster processing\n",
    "spark.conf.set(\"spark.sql.execution.arrow.pyspark.enabled\", \"true\")"
   ]
  },
  {
   "cell_type": "code",
   "execution_count": 5,
   "id": "319d9ca3",
   "metadata": {},
   "outputs": [
    {
     "name": "stderr",
     "output_type": "stream",
     "text": [
      "/home/ubuntu/.local/lib/python3.10/site-packages/pyspark/sql/pandas/conversion.py:604: FutureWarning: iteritems is deprecated and will be removed in a future version. Use .items instead.\n",
      "  [(c, t) for (_, c), t in zip(pdf_slice.iteritems(), arrow_types)]\n"
     ]
    }
   ],
   "source": [
    "s3_heartDF = spark.createDataFrame(df)"
   ]
  },
  {
   "cell_type": "code",
   "execution_count": 7,
   "id": "f5bbe548",
   "metadata": {},
   "outputs": [
    {
     "name": "stdout",
     "output_type": "stream",
     "text": [
      "23/02/11 22:32:33 WARN TaskSetManager: Stage 1 contains a task of very large size (7661 KiB). The maximum recommended task size is 1000 KiB.\n",
      "+-----+---+-----+------+------+------+-----+-----+-----------+----+-----+----+------+------+\n",
      "|index| id|  age|gender|height|weight|ap_hi|ap_lo|cholesterol|gluc|smoke|alco|active|cardio|\n",
      "+-----+---+-----+------+------+------+-----+-----+-----------+----+-----+----+------+------+\n",
      "|    0|  0|18393|     2|   168|  62.0|  110|   80|          1|   1|    0|   0|     1|     0|\n",
      "|    1|  1|20228|     1|   156|  85.0|  140|   90|          3|   1|    0|   0|     1|     1|\n",
      "|    2|  2|18857|     1|   165|  64.0|  130|   70|          3|   1|    0|   0|     0|     1|\n",
      "|    3|  3|17623|     2|   169|  82.0|  150|  100|          1|   1|    0|   0|     1|     1|\n",
      "|    4|  4|17474|     1|   156|  56.0|  100|   60|          1|   1|    0|   0|     0|     0|\n",
      "|    5|  8|21914|     1|   151|  67.0|  120|   80|          2|   2|    0|   0|     0|     0|\n",
      "|    6|  9|22113|     1|   157|  93.0|  130|   80|          3|   1|    0|   0|     1|     0|\n",
      "|    7| 12|22584|     2|   178|  95.0|  130|   90|          3|   3|    0|   0|     1|     1|\n",
      "|    8| 13|17668|     1|   158|  71.0|  110|   70|          1|   1|    0|   0|     1|     0|\n",
      "|    9| 14|19834|     1|   164|  68.0|  110|   60|          1|   1|    0|   0|     0|     0|\n",
      "+-----+---+-----+------+------+------+-----+-----+-----------+----+-----+----+------+------+\n",
      "only showing top 10 rows\n",
      "\n"
     ]
    }
   ],
   "source": [
    "s3_heartDF.show(10)"
   ]
  },
  {
   "cell_type": "code",
   "execution_count": 8,
   "id": "b9a9f7ea",
   "metadata": {},
   "outputs": [],
   "source": [
    "s3_heartDF.createOrReplaceTempView(\"heart_tbl_s3\")"
   ]
  },
  {
   "cell_type": "code",
   "execution_count": 9,
   "id": "d5ac1376",
   "metadata": {},
   "outputs": [
    {
     "name": "stdout",
     "output_type": "stream",
     "text": [
      "23/02/11 22:32:56 WARN TaskSetManager: Stage 2 contains a task of very large size (7661 KiB). The maximum recommended task size is 1000 KiB.\n"
     ]
    },
    {
     "name": "stderr",
     "output_type": "stream",
     "text": [
      "\r",
      "[Stage 2:>                                                          (0 + 1) / 1]\r"
     ]
    },
    {
     "name": "stdout",
     "output_type": "stream",
     "text": [
      "+------+---------+\n",
      "|gender|count(id)|\n",
      "+------+---------+\n",
      "|     1|    22616|\n",
      "|     2|    12363|\n",
      "+------+---------+\n",
      "\n"
     ]
    },
    {
     "name": "stderr",
     "output_type": "stream",
     "text": [
      "\r",
      "                                                                                \r"
     ]
    }
   ],
   "source": [
    "spark.sql(\"\"\"SELECT gender, count(id)\n",
    "             FROM heart_tbl_s3\n",
    "             WHERE cardio = 1\n",
    "             GROUP BY gender\"\"\").show(10)"
   ]
  },
  {
   "cell_type": "code",
   "execution_count": 11,
   "id": "f22e022b",
   "metadata": {},
   "outputs": [
    {
     "name": "stdout",
     "output_type": "stream",
     "text": [
      "23/02/11 22:37:22 WARN TaskSetManager: Stage 5 contains a task of very large size (7661 KiB). The maximum recommended task size is 1000 KiB.\n",
      "+-----+---+-----+------+------+------+-----+-----+-----------+----+-----+----+------+------+\n",
      "|index| id|  age|gender|height|weight|ap_hi|ap_lo|cholesterol|gluc|smoke|alco|active|cardio|\n",
      "+-----+---+-----+------+------+------+-----+-----+-----------+----+-----+----+------+------+\n",
      "|    0|  0|18393|     F|   168|  62.0|  110|   80|          1|   1|    0|   0|     1|     0|\n",
      "|    1|  1|20228|     M|   156|  85.0|  140|   90|          3|   1|    0|   0|     1|     1|\n",
      "|    2|  2|18857|     M|   165|  64.0|  130|   70|          3|   1|    0|   0|     0|     1|\n",
      "|    3|  3|17623|     F|   169|  82.0|  150|  100|          1|   1|    0|   0|     1|     1|\n",
      "|    4|  4|17474|     M|   156|  56.0|  100|   60|          1|   1|    0|   0|     0|     0|\n",
      "|    5|  8|21914|     M|   151|  67.0|  120|   80|          2|   2|    0|   0|     0|     0|\n",
      "|    6|  9|22113|     M|   157|  93.0|  130|   80|          3|   1|    0|   0|     1|     0|\n",
      "|    7| 12|22584|     F|   178|  95.0|  130|   90|          3|   3|    0|   0|     1|     1|\n",
      "|    8| 13|17668|     M|   158|  71.0|  110|   70|          1|   1|    0|   0|     1|     0|\n",
      "|    9| 14|19834|     M|   164|  68.0|  110|   60|          1|   1|    0|   0|     0|     0|\n",
      "+-----+---+-----+------+------+------+-----+-----+-----------+----+-----+----+------+------+\n",
      "only showing top 10 rows\n",
      "\n"
     ]
    }
   ],
   "source": [
    "s3_heartDF_2 = (s3_heartDF.withColumn(\n",
    "                    \"gender\",\n",
    "                    expr(\"CASE WHEN gender = 1 THEN 'M' ELSE 'F' END\")))\n",
    "s3_heartDF_2.show(10)"
   ]
  },
  {
   "cell_type": "code",
   "execution_count": 14,
   "id": "a14eccf4",
   "metadata": {},
   "outputs": [
    {
     "data": {
      "text/plain": [
       "[('index', 'bigint'),\n",
       " ('id', 'bigint'),\n",
       " ('age', 'bigint'),\n",
       " ('gender', 'string'),\n",
       " ('height', 'bigint'),\n",
       " ('weight', 'double'),\n",
       " ('ap_hi', 'bigint'),\n",
       " ('ap_lo', 'bigint'),\n",
       " ('cholesterol', 'bigint'),\n",
       " ('gluc', 'bigint'),\n",
       " ('smoke', 'bigint'),\n",
       " ('alco', 'bigint'),\n",
       " ('active', 'bigint'),\n",
       " ('cardio', 'bigint')]"
      ]
     },
     "execution_count": 14,
     "metadata": {},
     "output_type": "execute_result"
    }
   ],
   "source": [
    "s3_heartDF_2.dtypes"
   ]
  },
  {
   "cell_type": "code",
   "execution_count": 41,
   "id": "189713da",
   "metadata": {},
   "outputs": [
    {
     "data": {
      "text/plain": [
       "<bound method NDFrame.describe of        index     id    age  gender  height  weight  ap_hi  ap_lo  cholesterol  \\\n",
       "0          0      0  18393       2     168    62.0    110     80            1   \n",
       "1          1      1  20228       1     156    85.0    140     90            3   \n",
       "2          2      2  18857       1     165    64.0    130     70            3   \n",
       "3          3      3  17623       2     169    82.0    150    100            1   \n",
       "4          4      4  17474       1     156    56.0    100     60            1   \n",
       "...      ...    ...    ...     ...     ...     ...    ...    ...          ...   \n",
       "69995  69995  99993  19240       2     168    76.0    120     80            1   \n",
       "69996  69996  99995  22601       1     158   126.0    140     90            2   \n",
       "69997  69997  99996  19066       2     183   105.0    180     90            3   \n",
       "69998  69998  99998  22431       1     163    72.0    135     80            1   \n",
       "69999  69999  99999  20540       1     170    72.0    120     80            2   \n",
       "\n",
       "       gluc  smoke  alco  active  cardio  \n",
       "0         1      0     0       1       0  \n",
       "1         1      0     0       1       1  \n",
       "2         1      0     0       0       1  \n",
       "3         1      0     0       1       1  \n",
       "4         1      0     0       0       0  \n",
       "...     ...    ...   ...     ...     ...  \n",
       "69995     1      1     0       1       0  \n",
       "69996     2      0     0       1       1  \n",
       "69997     1      0     1       0       1  \n",
       "69998     2      0     0       0       1  \n",
       "69999     1      0     0       1       0  \n",
       "\n",
       "[70000 rows x 14 columns]>"
      ]
     },
     "execution_count": 41,
     "metadata": {},
     "output_type": "execute_result"
    }
   ],
   "source": [
    "df.describe"
   ]
  },
  {
   "cell_type": "code",
   "execution_count": 32,
   "id": "dfc302f8",
   "metadata": {},
   "outputs": [
    {
     "data": {
      "text/plain": [
       "count    70000.000000\n",
       "mean         1.366871\n",
       "std          0.680250\n",
       "min          1.000000\n",
       "25%          1.000000\n",
       "50%          1.000000\n",
       "75%          2.000000\n",
       "max          3.000000\n",
       "Name: cholesterol, dtype: float64"
      ]
     },
     "execution_count": 32,
     "metadata": {},
     "output_type": "execute_result"
    }
   ],
   "source": [
    "# Cholesterol values look a bit fishy, so we might make some modifications or assumptions.\n",
    "df.cholesterol.describe()"
   ]
  },
  {
   "cell_type": "code",
   "execution_count": 33,
   "id": "a0b661a9",
   "metadata": {},
   "outputs": [],
   "source": [
    "# Range is 1-3, so instead of taking dataset notes at face value we're going to create low(1), med(2), and high(3)\n",
    "# cholesterol categories and then OHC them."
   ]
  },
  {
   "cell_type": "code",
   "execution_count": 37,
   "id": "0fcc66ae",
   "metadata": {},
   "outputs": [
    {
     "name": "stdout",
     "output_type": "stream",
     "text": [
      "23/02/11 22:59:43 WARN TaskSetManager: Stage 16 contains a task of very large size (7661 KiB). The maximum recommended task size is 1000 KiB.\n",
      "+-----+---+-----+------+------+------+-----+-----+-----------+----+-----+----+------+------+\n",
      "|index| id|  age|gender|height|weight|ap_hi|ap_lo|cholesterol|gluc|smoke|alco|active|cardio|\n",
      "+-----+---+-----+------+------+------+-----+-----+-----------+----+-----+----+------+------+\n",
      "|    0|  0|18393|     F|   168|  62.0|  110|   80|        Low|   1|    0|   0|     1|     0|\n",
      "|    1|  1|20228|     M|   156|  85.0|  140|   90|       High|   1|    0|   0|     1|     1|\n",
      "|    2|  2|18857|     M|   165|  64.0|  130|   70|       High|   1|    0|   0|     0|     1|\n",
      "|    3|  3|17623|     F|   169|  82.0|  150|  100|        Low|   1|    0|   0|     1|     1|\n",
      "|    4|  4|17474|     M|   156|  56.0|  100|   60|        Low|   1|    0|   0|     0|     0|\n",
      "|    5|  8|21914|     M|   151|  67.0|  120|   80|        Med|   2|    0|   0|     0|     0|\n",
      "|    6|  9|22113|     M|   157|  93.0|  130|   80|       High|   1|    0|   0|     1|     0|\n",
      "|    7| 12|22584|     F|   178|  95.0|  130|   90|       High|   3|    0|   0|     1|     1|\n",
      "|    8| 13|17668|     M|   158|  71.0|  110|   70|        Low|   1|    0|   0|     1|     0|\n",
      "|    9| 14|19834|     M|   164|  68.0|  110|   60|        Low|   1|    0|   0|     0|     0|\n",
      "+-----+---+-----+------+------+------+-----+-----+-----------+----+-----+----+------+------+\n",
      "only showing top 10 rows\n",
      "\n"
     ]
    }
   ],
   "source": [
    "s3_heartDF_3 = (s3_heartDF_2.withColumn(\"cholesterol\", when(s3_heartDF_2.cholesterol == \"1\", \"Low\")\n",
    "                                        .when(s3_heartDF_2.cholesterol == \"2\", \"Med\")\n",
    "                                        .when(s3_heartDF_2.cholesterol == \"3\", \"High\")\n",
    "                                        )\n",
    "               )\n",
    "s3_heartDF_3.show(10)"
   ]
  },
  {
   "cell_type": "code",
   "execution_count": 39,
   "id": "2ae70066",
   "metadata": {},
   "outputs": [
    {
     "data": {
      "text/plain": [
       "count    70000.000000\n",
       "mean         1.226457\n",
       "std          0.572270\n",
       "min          1.000000\n",
       "25%          1.000000\n",
       "50%          1.000000\n",
       "75%          1.000000\n",
       "max          3.000000\n",
       "Name: gluc, dtype: float64"
      ]
     },
     "execution_count": 39,
     "metadata": {},
     "output_type": "execute_result"
    }
   ],
   "source": [
    "# Same deal with glucose levels. Data is not as described so we'll clean this up\n",
    "df.gluc.describe()"
   ]
  },
  {
   "cell_type": "code",
   "execution_count": 40,
   "id": "1908211f",
   "metadata": {},
   "outputs": [
    {
     "name": "stdout",
     "output_type": "stream",
     "text": [
      "23/02/11 23:02:30 WARN TaskSetManager: Stage 17 contains a task of very large size (7661 KiB). The maximum recommended task size is 1000 KiB.\n",
      "+-----+---+-----+------+------+------+-----+-----+-----------+----+-----+----+------+------+\n",
      "|index| id|  age|gender|height|weight|ap_hi|ap_lo|cholesterol|gluc|smoke|alco|active|cardio|\n",
      "+-----+---+-----+------+------+------+-----+-----+-----------+----+-----+----+------+------+\n",
      "|    0|  0|18393|     F|   168|  62.0|  110|   80|        Low| Low|    0|   0|     1|     0|\n",
      "|    1|  1|20228|     M|   156|  85.0|  140|   90|       High| Low|    0|   0|     1|     1|\n",
      "|    2|  2|18857|     M|   165|  64.0|  130|   70|       High| Low|    0|   0|     0|     1|\n",
      "|    3|  3|17623|     F|   169|  82.0|  150|  100|        Low| Low|    0|   0|     1|     1|\n",
      "|    4|  4|17474|     M|   156|  56.0|  100|   60|        Low| Low|    0|   0|     0|     0|\n",
      "|    5|  8|21914|     M|   151|  67.0|  120|   80|        Med| Med|    0|   0|     0|     0|\n",
      "|    6|  9|22113|     M|   157|  93.0|  130|   80|       High| Low|    0|   0|     1|     0|\n",
      "|    7| 12|22584|     F|   178|  95.0|  130|   90|       High|High|    0|   0|     1|     1|\n",
      "|    8| 13|17668|     M|   158|  71.0|  110|   70|        Low| Low|    0|   0|     1|     0|\n",
      "|    9| 14|19834|     M|   164|  68.0|  110|   60|        Low| Low|    0|   0|     0|     0|\n",
      "+-----+---+-----+------+------+------+-----+-----+-----------+----+-----+----+------+------+\n",
      "only showing top 10 rows\n",
      "\n"
     ]
    }
   ],
   "source": [
    "s3_heartDF_4 = (s3_heartDF_3.withColumn(\"gluc\", when(s3_heartDF_3.gluc == \"1\", \"Low\")\n",
    "                                        .when(s3_heartDF_3.gluc == \"2\", \"Med\")\n",
    "                                        .when(s3_heartDF_3.gluc == \"3\", \"High\")\n",
    "                                        )\n",
    "               )\n",
    "s3_heartDF_4.show(10)"
   ]
  },
  {
   "cell_type": "code",
   "execution_count": 42,
   "id": "bd6550e6",
   "metadata": {},
   "outputs": [
    {
     "name": "stdout",
     "output_type": "stream",
     "text": [
      "23/02/11 23:04:39 WARN TaskSetManager: Stage 18 contains a task of very large size (7661 KiB). The maximum recommended task size is 1000 KiB.\n",
      "23/02/11 23:04:39 WARN TaskSetManager: Stage 21 contains a task of very large size (7661 KiB). The maximum recommended task size is 1000 KiB.\n",
      "There are 55851 rows in the training set, and 14149 in the test set\n"
     ]
    }
   ],
   "source": [
    "trainDF, testDF = s3_heartDF_4.randomSplit([.8, .2], seed=42)\n",
    "\n",
    "print(f\"\"\"There are {trainDF.count()} rows in the training set, and {testDF.count()} in the test set\"\"\")"
   ]
  },
  {
   "cell_type": "code",
   "execution_count": 43,
   "id": "47f98cc9",
   "metadata": {},
   "outputs": [],
   "source": [
    "from pyspark.ml.feature import RFormula"
   ]
  },
  {
   "cell_type": "code",
   "execution_count": 44,
   "id": "508df21f",
   "metadata": {},
   "outputs": [
    {
     "data": {
      "text/plain": [
       "[('index', 'bigint'),\n",
       " ('id', 'bigint'),\n",
       " ('age', 'bigint'),\n",
       " ('gender', 'string'),\n",
       " ('height', 'bigint'),\n",
       " ('weight', 'double'),\n",
       " ('ap_hi', 'bigint'),\n",
       " ('ap_lo', 'bigint'),\n",
       " ('cholesterol', 'string'),\n",
       " ('gluc', 'string'),\n",
       " ('smoke', 'bigint'),\n",
       " ('alco', 'bigint'),\n",
       " ('active', 'bigint'),\n",
       " ('cardio', 'bigint')]"
      ]
     },
     "execution_count": 44,
     "metadata": {},
     "output_type": "execute_result"
    }
   ],
   "source": [
    "s3_heartDF_4.dtypes"
   ]
  },
  {
   "cell_type": "code",
   "execution_count": 48,
   "id": "3b34757d",
   "metadata": {},
   "outputs": [
    {
     "name": "stdout",
     "output_type": "stream",
     "text": [
      "23/02/11 23:13:43 WARN TaskSetManager: Stage 34 contains a task of very large size (7661 KiB). The maximum recommended task size is 1000 KiB.\n",
      "23/02/11 23:13:44 WARN TaskSetManager: Stage 37 contains a task of very large size (7661 KiB). The maximum recommended task size is 1000 KiB.\n",
      "23/02/11 23:13:45 WARN TaskSetManager: Stage 40 contains a task of very large size (7661 KiB). The maximum recommended task size is 1000 KiB.\n"
     ]
    }
   ],
   "source": [
    "rf = RFormula(formula = \"cardio ~ .\"\n",
    "             ,featuresCol = \"features\"\n",
    "             ,labelCol = \"heart_disease\")\n",
    "model = rf.fit(trainDF)"
   ]
  },
  {
   "cell_type": "code",
   "execution_count": 49,
   "id": "3a3e2936",
   "metadata": {},
   "outputs": [
    {
     "name": "stdout",
     "output_type": "stream",
     "text": [
      "23/02/11 23:13:48 WARN TaskSetManager: Stage 43 contains a task of very large size (7661 KiB). The maximum recommended task size is 1000 KiB.\n",
      "+-----+---+-----+------+------+------+-----+-----+-----------+----+-----+----+------+------+--------------------+-------------+\n",
      "|index| id|  age|gender|height|weight|ap_hi|ap_lo|cholesterol|gluc|smoke|alco|active|cardio|            features|heart_disease|\n",
      "+-----+---+-----+------+------+------+-----+-----+-----------+----+-----+----+------+------+--------------------+-------------+\n",
      "|    0|  0|18393|     F|   168|  62.0|  110|   80|        Low| Low|    0|   0|     1|     0|(15,[2,4,5,6,7,8,...|          0.0|\n",
      "|    1|  1|20228|     M|   156|  85.0|  140|   90|       High| Low|    0|   0|     1|     1|[1.0,1.0,20228.0,...|          1.0|\n",
      "|    3|  3|17623|     F|   169|  82.0|  150|  100|        Low| Low|    0|   0|     1|     1|[3.0,3.0,17623.0,...|          1.0|\n",
      "|    4|  4|17474|     M|   156|  56.0|  100|   60|        Low| Low|    0|   0|     0|     0|[4.0,4.0,17474.0,...|          0.0|\n",
      "|    5|  8|21914|     M|   151|  67.0|  120|   80|        Med| Med|    0|   0|     0|     0|[5.0,8.0,21914.0,...|          0.0|\n",
      "|    7| 12|22584|     F|   178|  95.0|  130|   90|       High|High|    0|   0|     1|     1|[7.0,12.0,22584.0...|          1.0|\n",
      "|    9| 14|19834|     M|   164|  68.0|  110|   60|        Low| Low|    0|   0|     0|     0|[9.0,14.0,19834.0...|          0.0|\n",
      "|   10| 15|22530|     M|   169|  80.0|  120|   80|        Low| Low|    0|   0|     1|     0|[10.0,15.0,22530....|          0.0|\n",
      "|   11| 16|18815|     F|   173|  60.0|  120|   80|        Low| Low|    0|   0|     1|     0|[11.0,16.0,18815....|          0.0|\n",
      "|   12| 18|14791|     F|   165|  60.0|  120|   80|        Low| Low|    0|   0|     0|     0|[12.0,18.0,14791....|          0.0|\n",
      "|   14| 23|14532|     F|   181|  95.0|  130|   90|        Low| Low|    1|   1|     1|     0|[14.0,23.0,14532....|          0.0|\n",
      "|   15| 24|16782|     F|   172| 112.0|  120|   80|        Low| Low|    0|   0|     0|     1|[15.0,24.0,16782....|          1.0|\n",
      "|   16| 25|21296|     M|   170|  75.0|  130|   70|        Low| Low|    0|   0|     0|     0|[16.0,25.0,21296....|          0.0|\n",
      "|   17| 27|16747|     M|   158|  52.0|  110|   70|        Low|High|    0|   0|     1|     0|[17.0,27.0,16747....|          0.0|\n",
      "|   18| 28|17482|     M|   154|  68.0|  100|   70|        Low| Low|    0|   0|     0|     0|[18.0,28.0,17482....|          0.0|\n",
      "|   20| 30|19778|     F|   163|  83.0|  120|   80|        Low| Low|    0|   0|     1|     0|[20.0,30.0,19778....|          0.0|\n",
      "|   21| 31|21413|     M|   157|  69.0|  130|   80|        Low| Low|    0|   0|     1|     0|[21.0,31.0,21413....|          0.0|\n",
      "|   22| 32|23046|     M|   158|  90.0|  145|   85|        Med| Med|    0|   0|     1|     1|[22.0,32.0,23046....|          1.0|\n",
      "|   24| 35|16608|     M|   170|  68.0|  150|   90|       High| Low|    0|   0|     1|     1|[24.0,35.0,16608....|          1.0|\n",
      "|   25| 36|14453|     M|   153|  65.0|  130|  100|        Med| Low|    0|   0|     1|     0|[25.0,36.0,14453....|          0.0|\n",
      "+-----+---+-----+------+------+------+-----+-----+-----------+----+-----+----+------+------+--------------------+-------------+\n",
      "only showing top 20 rows\n",
      "\n"
     ]
    }
   ],
   "source": [
    "model.transform(trainDF).show()"
   ]
  },
  {
   "cell_type": "code",
   "execution_count": 54,
   "id": "9b0ef593",
   "metadata": {},
   "outputs": [],
   "source": [
    "from pyspark.ml.regression import LinearRegression\n",
    "from pyspark.ml import Pipeline"
   ]
  },
  {
   "cell_type": "code",
   "execution_count": 55,
   "id": "2a99ce16",
   "metadata": {},
   "outputs": [
    {
     "name": "stdout",
     "output_type": "stream",
     "text": [
      "23/02/11 23:17:32 WARN TaskSetManager: Stage 44 contains a task of very large size (7661 KiB). The maximum recommended task size is 1000 KiB.\n",
      "23/02/11 23:17:33 WARN TaskSetManager: Stage 47 contains a task of very large size (7661 KiB). The maximum recommended task size is 1000 KiB.\n",
      "23/02/11 23:17:34 WARN TaskSetManager: Stage 50 contains a task of very large size (7661 KiB). The maximum recommended task size is 1000 KiB.\n",
      "23/02/11 23:17:35 WARN Instrumentation: [4e01b012] regParam is zero, which might cause numerical instability and overfitting.\n",
      "23/02/11 23:17:35 WARN TaskSetManager: Stage 53 contains a task of very large size (7661 KiB). The maximum recommended task size is 1000 KiB.\n"
     ]
    },
    {
     "name": "stderr",
     "output_type": "stream",
     "text": [
      "\r",
      "[Stage 53:>                                                         (0 + 1) / 1]\r"
     ]
    },
    {
     "name": "stdout",
     "output_type": "stream",
     "text": [
      "23/02/11 23:17:35 WARN InstanceBuilder$NativeBLAS: Failed to load implementation from:dev.ludovic.netlib.blas.JNIBLAS\n",
      "23/02/11 23:17:35 WARN InstanceBuilder$NativeBLAS: Failed to load implementation from:dev.ludovic.netlib.blas.ForeignLinkerBLAS\n"
     ]
    },
    {
     "name": "stderr",
     "output_type": "stream",
     "text": [
      "\r",
      "                                                                                \r"
     ]
    },
    {
     "name": "stdout",
     "output_type": "stream",
     "text": [
      "23/02/11 23:17:37 WARN InstanceBuilder$NativeLAPACK: Failed to load implementation from:dev.ludovic.netlib.lapack.JNILAPACK\n",
      "23/02/11 23:17:38 WARN TaskSetManager: Stage 54 contains a task of very large size (7661 KiB). The maximum recommended task size is 1000 KiB.\n"
     ]
    },
    {
     "name": "stderr",
     "output_type": "stream",
     "text": [
      "                                                                                \r"
     ]
    }
   ],
   "source": [
    "lr = LinearRegression(labelCol=\"heart_disease\", predictionCol=\"heart_disease_pred\")\n",
    "pipeline = Pipeline(stages = [rf, lr])\n",
    "\n",
    "pipelineModel = pipeline.fit(trainDF)\n",
    "predDF = pipelineModel.transform(testDF)"
   ]
  },
  {
   "cell_type": "code",
   "execution_count": 56,
   "id": "c90985a6",
   "metadata": {},
   "outputs": [
    {
     "name": "stdout",
     "output_type": "stream",
     "text": [
      "23/02/11 23:18:41 WARN TaskSetManager: Stage 55 contains a task of very large size (7661 KiB). The maximum recommended task size is 1000 KiB.\n",
      "+--------------------+-------------+-------------------+\n",
      "|            features|heart_disease| heart_disease_pred|\n",
      "+--------------------+-------------+-------------------+\n",
      "|[2.0,2.0,18857.0,...|          1.0| 0.6685603696888976|\n",
      "|[6.0,9.0,22113.0,...|          0.0| 0.9345983072349767|\n",
      "|[8.0,13.0,17668.0...|          0.0| 0.3601323104516745|\n",
      "|[13.0,21.0,19809....|          0.0|0.48328201941608906|\n",
      "|[19.0,29.0,21755....|          0.0|0.43216122345669006|\n",
      "|[23.0,33.0,23376....|          0.0| 0.4731861953701907|\n",
      "|[29.0,40.0,21057....|          0.0|0.47575570969291847|\n",
      "|[35.0,47.0,20404....|          0.0| 0.3756621510874405|\n",
      "|[45.0,60.0,17471....|          1.0| 0.3127038485883452|\n",
      "|[46.0,61.0,18207....|          1.0| 0.7003578728862407|\n",
      "+--------------------+-------------+-------------------+\n",
      "only showing top 10 rows\n",
      "\n"
     ]
    }
   ],
   "source": [
    "predDF.select(\"features\", \"heart_disease\", \"heart_disease_pred\").show(10)"
   ]
  },
  {
   "cell_type": "code",
   "execution_count": 57,
   "id": "480eb503",
   "metadata": {},
   "outputs": [],
   "source": [
    "from pyspark.ml.evaluation import RegressionEvaluator"
   ]
  },
  {
   "cell_type": "code",
   "execution_count": 58,
   "id": "88ee1912",
   "metadata": {},
   "outputs": [
    {
     "name": "stdout",
     "output_type": "stream",
     "text": [
      "23/02/11 23:19:32 WARN TaskSetManager: Stage 56 contains a task of very large size (7661 KiB). The maximum recommended task size is 1000 KiB.\n"
     ]
    },
    {
     "name": "stderr",
     "output_type": "stream",
     "text": [
      "\r",
      "[Stage 56:>                                                         (0 + 1) / 1]\r"
     ]
    },
    {
     "name": "stdout",
     "output_type": "stream",
     "text": [
      "RMSE is 0.5\n"
     ]
    },
    {
     "name": "stderr",
     "output_type": "stream",
     "text": [
      "\r",
      "                                                                                \r"
     ]
    }
   ],
   "source": [
    "regressionEvaluator = RegressionEvaluator(\n",
    "    predictionCol=\"heart_disease_pred\",\n",
    "    labelCol=\"heart_disease\",\n",
    "    metricName=\"rmse\")\n",
    "\n",
    "rmse = regressionEvaluator.evaluate(predDF)\n",
    "print(f\"RMSE is {rmse:.1f}\")"
   ]
  },
  {
   "cell_type": "code",
   "execution_count": 59,
   "id": "761cb1cd",
   "metadata": {},
   "outputs": [
    {
     "name": "stdout",
     "output_type": "stream",
     "text": [
      "23/02/11 23:20:01 WARN TaskSetManager: Stage 57 contains a task of very large size (7661 KiB). The maximum recommended task size is 1000 KiB.\n",
      "0.1237012646554525\n"
     ]
    },
    {
     "name": "stderr",
     "output_type": "stream",
     "text": [
      "\r",
      "[Stage 57:>                                                         (0 + 1) / 1]\r",
      "\r",
      "                                                                                \r"
     ]
    }
   ],
   "source": [
    "r2 = regressionEvaluator.setMetricName(\"r2\").evaluate(predDF)\n",
    "print(r2)"
   ]
  },
  {
   "cell_type": "code",
   "execution_count": null,
   "id": "5b16d44a",
   "metadata": {},
   "outputs": [],
   "source": [
    "### Explore schema of our final df"
   ]
  },
  {
   "cell_type": "code",
   "execution_count": 67,
   "id": "797ccd18",
   "metadata": {},
   "outputs": [
    {
     "data": {
      "text/plain": [
       "StructType([StructField('index', LongType(), True), StructField('id', LongType(), True), StructField('age', LongType(), True), StructField('gender', StringType(), False), StructField('height', LongType(), True), StructField('weight', DoubleType(), True), StructField('ap_hi', LongType(), True), StructField('ap_lo', LongType(), True), StructField('cholesterol', StringType(), True), StructField('gluc', StringType(), True), StructField('smoke', LongType(), True), StructField('alco', LongType(), True), StructField('active', LongType(), True), StructField('cardio', LongType(), True)])"
      ]
     },
     "execution_count": 67,
     "metadata": {},
     "output_type": "execute_result"
    }
   ],
   "source": [
    "s3_heartDF_4.schema"
   ]
  },
  {
   "cell_type": "code",
   "execution_count": 69,
   "id": "bdff3509",
   "metadata": {},
   "outputs": [
    {
     "data": {
      "text/plain": [
       "[StructField('index', LongType(), True),\n",
       " StructField('id', LongType(), True),\n",
       " StructField('age', LongType(), True),\n",
       " StructField('gender', StringType(), False),\n",
       " StructField('height', LongType(), True),\n",
       " StructField('weight', DoubleType(), True),\n",
       " StructField('ap_hi', LongType(), True),\n",
       " StructField('ap_lo', LongType(), True),\n",
       " StructField('cholesterol', StringType(), True),\n",
       " StructField('gluc', StringType(), True),\n",
       " StructField('smoke', LongType(), True),\n",
       " StructField('alco', LongType(), True),\n",
       " StructField('active', LongType(), True),\n",
       " StructField('cardio', LongType(), True),\n",
       " StructField('features', VectorUDT(), True),\n",
       " StructField('heart_disease', DoubleType(), True),\n",
       " StructField('heart_disease_pred', DoubleType(), False)]"
      ]
     },
     "execution_count": 69,
     "metadata": {},
     "output_type": "execute_result"
    }
   ],
   "source": [
    "from pyspark.sql.types import StructType\n",
    "\n",
    "schema = [i for i in s3_heartDF_4.schema]\n",
    "schema"
   ]
  },
  {
   "cell_type": "code",
   "execution_count": 80,
   "id": "51d5f95c",
   "metadata": {},
   "outputs": [
    {
     "name": "stdout",
     "output_type": "stream",
     "text": [
      "23/02/11 23:36:31 WARN TaskSetManager: Stage 58 contains a task of very large size (7661 KiB). The maximum recommended task size is 1000 KiB.\n"
     ]
    },
    {
     "name": "stderr",
     "output_type": "stream",
     "text": [
      "                                                                                \r"
     ]
    }
   ],
   "source": [
    "### save df to parquet for further analysis\n",
    "location = \"/home/ubuntu/heart-disease-risks/tmp\"\n",
    "s3_heartDF_4.write.format(\"parquet\").mode(\"overwrite\").save(location)"
   ]
  },
  {
   "cell_type": "code",
   "execution_count": 81,
   "id": "ca6c03de",
   "metadata": {},
   "outputs": [],
   "source": [
    "spark.stop()"
   ]
  }
 ],
 "metadata": {
  "kernelspec": {
   "display_name": "Python 3 (ipykernel)",
   "language": "python",
   "name": "python3"
  },
  "language_info": {
   "codemirror_mode": {
    "name": "ipython",
    "version": 3
   },
   "file_extension": ".py",
   "mimetype": "text/x-python",
   "name": "python",
   "nbconvert_exporter": "python",
   "pygments_lexer": "ipython3",
   "version": "3.10.6"
  }
 },
 "nbformat": 4,
 "nbformat_minor": 5
}
